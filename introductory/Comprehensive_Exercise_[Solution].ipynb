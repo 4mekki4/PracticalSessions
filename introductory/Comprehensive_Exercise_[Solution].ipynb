{
  "nbformat": 4,
  "nbformat_minor": 0,
  "metadata": {
    "colab": {
      "name": "Comprehensive Exercise [Solution].ipynb",
      "version": "0.3.2",
      "views": {},
      "default_view": {},
      "provenance": [],
      "collapsed_sections": [],
      "toc_visible": true
    },
    "kernelspec": {
      "name": "python2",
      "display_name": "Python 2"
    }
  },
  "cells": [
    {
      "metadata": {
        "id": "iYx6oEVKcE_L",
        "colab_type": "text"
      },
      "cell_type": "markdown",
      "source": [
        "# Exercise: putting everything together \\[Solution\\]\n",
        "\n",
        "\n",
        "In this you will write code for a model that learns to classify mnist digits. You will use sonnet and tensorflow, tracking training progress with matplotlib."
      ]
    },
    {
      "metadata": {
        "id": "TGBJLkR_cI3L",
        "colab_type": "code",
        "colab": {
          "autoexec": {
            "startup": false,
            "wait_interval": 0
          },
          "base_uri": "https://localhost:8080/",
          "height": 68
        },
        "outputId": "dbdf3096-e002-4254-cb1a-341ec5564e9c",
        "executionInfo": {
          "status": "ok",
          "timestamp": 1530768871832,
          "user_tz": -60,
          "elapsed": 9338,
          "user": {
            "displayName": "David Szepesvari",
            "photoUrl": "//lh3.googleusercontent.com/-b59pEhK2Mu4/AAAAAAAAAAI/AAAAAAAABYk/II49sX2Iiac/s50-c-k-no/photo.jpg",
            "userId": "112028855906936668175"
          }
        }
      },
      "cell_type": "code",
      "source": [
        "# Install dm-sonnet with pip. Include all necessary imports.\n",
        "\n",
        "!pip install dm-sonnet\n",
        "\n",
        "from __future__ import absolute_import\n",
        "from __future__ import division\n",
        "from __future__ import print_function\n",
        "\n",
        "import random\n",
        "import seaborn as sns\n",
        "import numpy as np\n",
        "import tensorflow as tf\n",
        "import sonnet as snt\n",
        "\n",
        "from matplotlib import pyplot as plt\n",
        "from google.colab import files\n",
        "from scipy.stats import multivariate_normal\n",
        "from IPython.display import clear_output, Image, display, HTML\n",
        "\n",
        "sns.set_style('ticks')\n"
      ],
      "execution_count": 1,
      "outputs": [
        {
          "output_type": "stream",
          "text": [
            "Requirement already satisfied: dm-sonnet in /usr/local/lib/python2.7/dist-packages (1.23)\r\n",
            "Requirement already satisfied: six in /usr/local/lib/python2.7/dist-packages (from dm-sonnet) (1.11.0)\r\n",
            "Requirement already satisfied: absl-py in /usr/local/lib/python2.7/dist-packages (from dm-sonnet) (0.2.2)\r\n"
          ],
          "name": "stdout"
        }
      ]
    },
    {
      "metadata": {
        "id": "5gkBQpjJlCgP",
        "colab_type": "code",
        "colab": {
          "autoexec": {
            "startup": false,
            "wait_interval": 0
          },
          "base_uri": "https://localhost:8080/",
          "height": 37
        },
        "outputId": "80645e7b-0ad6-403f-cbb6-181398e8cfc6",
        "executionInfo": {
          "status": "ok",
          "timestamp": 1530768872339,
          "user_tz": -60,
          "elapsed": 459,
          "user": {
            "displayName": "David Szepesvari",
            "photoUrl": "//lh3.googleusercontent.com/-b59pEhK2Mu4/AAAAAAAAAAI/AAAAAAAABYk/II49sX2Iiac/s50-c-k-no/photo.jpg",
            "userId": "112028855906936668175"
          }
        }
      },
      "cell_type": "code",
      "source": [
        "tf.reset_default_graph()"
      ],
      "execution_count": 2,
      "outputs": []
    },
    {
      "metadata": {
        "id": "nO_tMPdncmVy",
        "colab_type": "code",
        "colab": {
          "autoexec": {
            "startup": false,
            "wait_interval": 0
          },
          "base_uri": "https://localhost:8080/",
          "height": 153
        },
        "outputId": "86c64c1a-1243-4c77-9d69-2e5d0bcdc9e7",
        "executionInfo": {
          "status": "ok",
          "timestamp": 1530768873445,
          "user_tz": -60,
          "elapsed": 1002,
          "user": {
            "displayName": "David Szepesvari",
            "photoUrl": "//lh3.googleusercontent.com/-b59pEhK2Mu4/AAAAAAAAAAI/AAAAAAAABYk/II49sX2Iiac/s50-c-k-no/photo.jpg",
            "userId": "112028855906936668175"
          }
        }
      },
      "cell_type": "code",
      "source": [
        "# Fetch the mnist data from tf.keras.datasets.mnist.\n",
        "\n",
        "mnist_train, mnist_test = tf.keras.datasets.mnist.load_data()\n",
        "\n",
        "# Check what the data is like:\n",
        "print('Training dataset:')\n",
        "train_input, train_label = mnist_train\n",
        "print('* input shape:', train_input.shape)\n",
        "print('* input min, mean, max:', train_input.min(), train_input.mean(), train_input.max())\n",
        "print('* input dtype:', train_input.dtype)\n",
        "print('* label shape:', train_label.shape)\n",
        "print('* label min, mean, max:', train_label.min(), train_label.mean(), train_label.max())\n",
        "print('* label dtype:', train_label.dtype)\n",
        "\n",
        "test_input, test_label = mnist_test\n",
        "print('Number of test examples:', test_input.shape[0])"
      ],
      "execution_count": 3,
      "outputs": [
        {
          "output_type": "stream",
          "text": [
            "Training dataset:\n",
            "* input shape: (60000, 28, 28)\n",
            "* input min, mean, max: 0 33.318421449829934 255\n",
            "* input dtype: uint8\n",
            "* label shape: (60000,)\n",
            "* label min, mean, max: 0 4.4539333333333335 9\n",
            "* label dtype: uint8\n",
            "Number of test examples: 10000\n"
          ],
          "name": "stdout"
        }
      ]
    },
    {
      "metadata": {
        "id": "utL4ZmLrepoH",
        "colab_type": "text"
      },
      "cell_type": "markdown",
      "source": [
        "Normalize the data into the \\[0, 1\\] interval. It's also a good idea to check the class distribution, but here we know that this is OK.\n",
        "\n"
      ]
    },
    {
      "metadata": {
        "id": "60_4wXEPe7Ig",
        "colab_type": "code",
        "colab": {
          "autoexec": {
            "startup": false,
            "wait_interval": 0
          },
          "base_uri": "https://localhost:8080/",
          "height": 37
        },
        "outputId": "240f85df-74c0-4c0d-f771-60a22a3b6383",
        "executionInfo": {
          "status": "ok",
          "timestamp": 1530768874165,
          "user_tz": -60,
          "elapsed": 688,
          "user": {
            "displayName": "David Szepesvari",
            "photoUrl": "//lh3.googleusercontent.com/-b59pEhK2Mu4/AAAAAAAAAAI/AAAAAAAABYk/II49sX2Iiac/s50-c-k-no/photo.jpg",
            "userId": "112028855906936668175"
          }
        }
      },
      "cell_type": "code",
      "source": [
        "# Normalize both train_input and test_input so that it is in [0, 1].\n",
        "#\n",
        "# Also ensure the following data types:\n",
        "#\n",
        "# * train_input and test_input need to be np.float32.\n",
        "# * the labels need to be converted to np.int32.\n",
        "\n",
        "train_input = train_input.astype(np.float32) / 255.\n",
        "test_input = test_input.astype(np.float32) / 255.\n",
        "\n",
        "train_label = train_label.astype(np.int32)\n",
        "test_label = test_label.astype(np.int32)\n"
      ],
      "execution_count": 4,
      "outputs": []
    },
    {
      "metadata": {
        "id": "JDwRkDiYfzVO",
        "colab_type": "code",
        "colab": {
          "autoexec": {
            "startup": false,
            "wait_interval": 0
          },
          "base_uri": "https://localhost:8080/",
          "height": 37
        },
        "outputId": "0eea9f11-59b8-4151-ba4c-3feacebff60c",
        "executionInfo": {
          "status": "ok",
          "timestamp": 1530768874753,
          "user_tz": -60,
          "elapsed": 461,
          "user": {
            "displayName": "David Szepesvari",
            "photoUrl": "//lh3.googleusercontent.com/-b59pEhK2Mu4/AAAAAAAAAAI/AAAAAAAABYk/II49sX2Iiac/s50-c-k-no/photo.jpg",
            "userId": "112028855906936668175"
          }
        }
      },
      "cell_type": "code",
      "source": [
        "# We can visualize the first few training examples using matplotlib.imshow()\n",
        "# in combination with the gallery function we defined.\n",
        "#\n",
        "# Copy the gallery function in this cell.\n",
        "\n",
        "def gallery(array, ncols=10, rescale=True):\n",
        "  \"\"\"Take a batch of images and arrange them in a grid.\n",
        "  \n",
        "  Args:\n",
        "    array: of shape batch_size x height x width x 3. The final x3 in the shape\n",
        "      is optional.\n",
        "    ncols: number of columns to have in the grid\n",
        "    rescale: if true (default), increases the intensity of the images.\n",
        "    \n",
        "  Returns:\n",
        "    A numpy array which contains the batch of images arranged into\n",
        "    a grid.\n",
        "  \"\"\"\n",
        "  if rescale:\n",
        "    array = (array + 1.) / 2\n",
        "  nindex, height, width = array.shape[:3]\n",
        "\n",
        "  nrows = nindex//ncols\n",
        "  assert nindex == nrows*ncols\n",
        "\n",
        "  # want result.shape = (height*nrows, width*ncols, intensity?)\n",
        "  abstract_grid_shape = [nrows, ncols, height, width]\n",
        "  image_grid_shape = [height*nrows, width*ncols]\n",
        "  if len(array.shape) == 4:\n",
        "    intensity = array.shape[3]\n",
        "    abstract_grid_shape.append(intensity)\n",
        "    image_grid_shape.append(intensity)\n",
        " \n",
        "  result = (array.reshape(*abstract_grid_shape)\n",
        "            .swapaxes(1,2)\n",
        "            .reshape(*image_grid_shape))\n",
        "  return result\n"
      ],
      "execution_count": 5,
      "outputs": []
    },
    {
      "metadata": {
        "id": "1WQD1huVgV8Y",
        "colab_type": "code",
        "colab": {
          "autoexec": {
            "startup": false,
            "wait_interval": 0
          },
          "base_uri": "https://localhost:8080/",
          "height": 151
        },
        "outputId": "d455f220-97b8-46c9-97b8-c8bbebaec927",
        "executionInfo": {
          "status": "ok",
          "timestamp": 1530768875447,
          "user_tz": -60,
          "elapsed": 524,
          "user": {
            "displayName": "David Szepesvari",
            "photoUrl": "//lh3.googleusercontent.com/-b59pEhK2Mu4/AAAAAAAAAAI/AAAAAAAABYk/II49sX2Iiac/s50-c-k-no/photo.jpg",
            "userId": "112028855906936668175"
          }
        }
      },
      "cell_type": "code",
      "source": [
        "# Show the first 6 training images on a 1x6 grid.\n",
        "# Remember to use grayscale plotting.\n",
        "# Also print their corresponding labels in the same order.\n",
        "\n",
        "plt.figure()\n",
        "plt.gray()\n",
        "plt.axis('off')\n",
        "plt.imshow(gallery(train_input[:6], ncols=6, rescale=False))\n",
        "plt.show()\n",
        "\n",
        "print(train_label[:6])"
      ],
      "execution_count": 6,
      "outputs": [
        {
          "output_type": "display_data",
          "data": {
            "image/png": "[encoded data removed]",
            "text/plain": [
              "<matplotlib.figure.Figure at 0x7fbaa86d7190>"
            ]
          },
          "metadata": {
            "tags": []
          }
        },
        {
          "output_type": "stream",
          "text": [
            "[5 0 4 1 9 2]\n"
          ],
          "name": "stdout"
        }
      ]
    },
    {
      "metadata": {
        "id": "6VZdwYo_fUpo",
        "colab_type": "code",
        "colab": {
          "autoexec": {
            "startup": false,
            "wait_interval": 0
          },
          "base_uri": "https://localhost:8080/",
          "height": 85
        },
        "outputId": "1d059bfe-e838-40be-d691-16db915a6bf1",
        "executionInfo": {
          "status": "ok",
          "timestamp": 1530768880413,
          "user_tz": -60,
          "elapsed": 4819,
          "user": {
            "displayName": "David Szepesvari",
            "photoUrl": "//lh3.googleusercontent.com/-b59pEhK2Mu4/AAAAAAAAAAI/AAAAAAAABYk/II49sX2Iiac/s50-c-k-no/photo.jpg",
            "userId": "112028855906936668175"
          }
        }
      },
      "cell_type": "code",
      "source": [
        "# Write a function that turns the data into tensorflow datasets and into\n",
        "# tensors corresponding to batches of examples, returning these tensors.\n",
        "#\n",
        "# The train data should be\n",
        "#\n",
        "# * shuffled across the full dataset\n",
        "# * repeated indefinitely\n",
        "# * batched at size 64.\n",
        "#\n",
        "# Simply batch the test data.\n",
        "#\n",
        "# IMPORTANT: Add a final (singleton) axis to the inputs; the conv nets that\n",
        "# we will use will expect this.\n",
        "\n",
        "BATCH_SIZE = 64\n",
        "\n",
        "\n",
        "def _get_data_tensor(dataset):\n",
        "  return dataset.make_one_shot_iterator().get_next()\n",
        "\n",
        "\n",
        "def get_tf_data():\n",
        "  train_dataset = tf.data.Dataset.from_tensor_slices((\n",
        "      np.expand_dims(train_input, axis=-1), train_label))\n",
        "  train_dataset = train_dataset.shuffle(60000).repeat().batch(BATCH_SIZE)\n",
        "  train_data = _get_data_tensor(train_dataset)\n",
        "\n",
        "  test_dataset = tf.data.Dataset.from_tensor_slices((\n",
        "      np.expand_dims(test_input, axis=-1), test_label))\n",
        "  test_dataset = test_dataset.batch(BATCH_SIZE)\n",
        "  test_data = _get_data_tensor(test_dataset)\n",
        "  \n",
        "  return train_data, test_data\n",
        "\n",
        "\n",
        "# Check the function outputs.\n",
        "get_tf_data()"
      ],
      "execution_count": 7,
      "outputs": [
        {
          "output_type": "execute_result",
          "data": {
            "text/plain": [
              "((<tf.Tensor 'IteratorGetNext:0' shape=(?, 28, 28, 1) dtype=float32>,\n",
              "  <tf.Tensor 'IteratorGetNext:1' shape=(?,) dtype=int32>),\n",
              " (<tf.Tensor 'IteratorGetNext_1:0' shape=(?, 28, 28, 1) dtype=float32>,\n",
              "  <tf.Tensor 'IteratorGetNext_1:1' shape=(?,) dtype=int32>))"
            ]
          },
          "metadata": {
            "tags": []
          },
          "execution_count": 7
        }
      ]
    },
    {
      "metadata": {
        "id": "d3JcANwNfHuQ",
        "colab_type": "code",
        "colab": {
          "autoexec": {
            "startup": false,
            "wait_interval": 0
          },
          "base_uri": "https://localhost:8080/",
          "height": 34
        },
        "outputId": "b70b7ee2-8ca0-4f33-b4ec-568e90c5d9f5",
        "executionInfo": {
          "status": "ok",
          "timestamp": 1530768880960,
          "user_tz": -60,
          "elapsed": 461,
          "user": {
            "displayName": "David Szepesvari",
            "photoUrl": "//lh3.googleusercontent.com/-b59pEhK2Mu4/AAAAAAAAAAI/AAAAAAAABYk/II49sX2Iiac/s50-c-k-no/photo.jpg",
            "userId": "112028855906936668175"
          }
        }
      },
      "cell_type": "code",
      "source": [
        "# Make a sonnet module that has the following structure:\n",
        "#\n",
        "# 1. sonnet Conv2D with 16 channes, kernel shape 3, stride 1, padding 'SAME'\n",
        "# 2. max pooling with window_shape [3, 3], srides [2, 2], padding 'SAME'\n",
        "# 3. ReLU\n",
        "# 4. sonnet Conv2D with 16 channes, kernel shape 3, stride 1, padding 'SAME'\n",
        "# 5. Flatten the final conv features using snt.BatchFlatten\n",
        "# 5. A (dense) Linear layer with output_size = 10, the number of classes.\n",
        "#\n",
        "# You can write the sonnet module yourself, or use the helper module\n",
        "# snt.Sequential([..layers..to..connect..]).\n",
        "\n",
        "def make_network():\n",
        "  \n",
        "  def make_conv_layer():\n",
        "    return snt.Conv2D(16, 3, stride=1, padding='SAME')\n",
        "  \n",
        "  def pooling_layer(inputs):\n",
        "    return tf.nn.pool(\n",
        "        inputs,\n",
        "        window_shape=[3, 3],\n",
        "        pooling_type='MAX',\n",
        "        padding='SAME',\n",
        "        strides=[2, 2])\n",
        "\n",
        "  return snt.Sequential([\n",
        "      make_conv_layer(),\n",
        "      pooling_layer,\n",
        "      tf.nn.relu,\n",
        "      make_conv_layer(),\n",
        "      snt.BatchFlatten(),\n",
        "      snt.Linear(10),\n",
        "  ])\n",
        "\n",
        "\n",
        "# Check the function outputs.\n",
        "make_network()"
      ],
      "execution_count": 8,
      "outputs": [
        {
          "output_type": "execute_result",
          "data": {
            "text/plain": [
              "<sonnet.python.modules.sequential.Sequential at 0x7fba96d95750>"
            ]
          },
          "metadata": {
            "tags": []
          },
          "execution_count": 8
        }
      ]
    },
    {
      "metadata": {
        "id": "YRp2hrGofH7f",
        "colab_type": "code",
        "colab": {
          "autoexec": {
            "startup": false,
            "wait_interval": 0
          },
          "base_uri": "https://localhost:8080/",
          "height": 37
        },
        "outputId": "fbd1217e-dfa8-48cf-87c0-637a93041f1f",
        "executionInfo": {
          "status": "ok",
          "timestamp": 1530768884784,
          "user_tz": -60,
          "elapsed": 3527,
          "user": {
            "displayName": "David Szepesvari",
            "photoUrl": "//lh3.googleusercontent.com/-b59pEhK2Mu4/AAAAAAAAAAI/AAAAAAAABYk/II49sX2Iiac/s50-c-k-no/photo.jpg",
            "userId": "112028855906936668175"
          }
        }
      },
      "cell_type": "code",
      "source": [
        "tf.reset_default_graph()\n",
        "(train_inputs, train_labels), (test_inputs, test_labels) = get_tf_data()\n"
      ],
      "execution_count": 9,
      "outputs": []
    },
    {
      "metadata": {
        "id": "g7daVkyoqS9p",
        "colab_type": "code",
        "colab": {
          "autoexec": {
            "startup": false,
            "wait_interval": 0
          },
          "base_uri": "https://localhost:8080/",
          "height": 37
        },
        "outputId": "efd8eb94-50f5-4103-d145-32b952f99b28",
        "executionInfo": {
          "status": "ok",
          "timestamp": 1530768886024,
          "user_tz": -60,
          "elapsed": 512,
          "user": {
            "displayName": "David Szepesvari",
            "photoUrl": "//lh3.googleusercontent.com/-b59pEhK2Mu4/AAAAAAAAAAI/AAAAAAAABYk/II49sX2Iiac/s50-c-k-no/photo.jpg",
            "userId": "112028855906936668175"
          }
        }
      },
      "cell_type": "code",
      "source": [
        "# 1. Instantiate a model\n",
        "# 2. Hook it up to the training data,\n",
        "# 3. Use the `tf.nn.sparse_softmax_cross_entropy_with_logits` op to define the loss\n",
        "# 4. Define the train_op that minimizes the loss (averaged over the batch)\n",
        "#    using the `GradientDescentOptimizer`. Set the learning rate to 0.01.\n",
        "# 5. Get the initialization op.\n",
        "\n",
        "model = make_network()\n",
        "\n",
        "train_outputs = model(train_inputs)\n",
        "loss = tf.nn.sparse_softmax_cross_entropy_with_logits(\n",
        "    labels=train_labels,\n",
        "    logits=train_outputs,\n",
        ")\n",
        "loss = tf.reduce_mean(loss)\n",
        "\n",
        "optimizer = tf.train.GradientDescentOptimizer(learning_rate=0.01)\n",
        "train_op = optimizer.minimize(loss)\n",
        "\n",
        "init_op = tf.global_variables_initializer()\n"
      ],
      "execution_count": 10,
      "outputs": []
    },
    {
      "metadata": {
        "id": "Wvmlucn6vbSD",
        "colab_type": "code",
        "colab": {
          "autoexec": {
            "startup": false,
            "wait_interval": 0
          },
          "base_uri": "https://localhost:8080/",
          "height": 37
        },
        "outputId": "1233b634-69ea-47bc-d916-a170b4b14898",
        "executionInfo": {
          "status": "ok",
          "timestamp": 1530768887008,
          "user_tz": -60,
          "elapsed": 487,
          "user": {
            "displayName": "David Szepesvari",
            "photoUrl": "//lh3.googleusercontent.com/-b59pEhK2Mu4/AAAAAAAAAAI/AAAAAAAABYk/II49sX2Iiac/s50-c-k-no/photo.jpg",
            "userId": "112028855906936668175"
          }
        }
      },
      "cell_type": "code",
      "source": [
        "# Write a function that takes a list of losses and plots them.\n",
        "def plot_losses(loss_list):\n",
        "  plt.figure()\n",
        "  plt.title('Losses')\n",
        "  plt.plot(loss_list, c='b')\n",
        "  plt.show()"
      ],
      "execution_count": 11,
      "outputs": []
    },
    {
      "metadata": {
        "id": "tufk2Xa2qTEI",
        "colab_type": "code",
        "colab": {
          "autoexec": {
            "startup": false,
            "wait_interval": 0
          },
          "base_uri": "https://localhost:8080/",
          "height": 804
        },
        "outputId": "e3604faf-7ed5-4ead-b0a8-fc60331e91b4",
        "executionInfo": {
          "status": "ok",
          "timestamp": 1530768929588,
          "user_tz": -60,
          "elapsed": 42068,
          "user": {
            "displayName": "David Szepesvari",
            "photoUrl": "//lh3.googleusercontent.com/-b59pEhK2Mu4/AAAAAAAAAAI/AAAAAAAABYk/II49sX2Iiac/s50-c-k-no/photo.jpg",
            "userId": "112028855906936668175"
          }
        }
      },
      "cell_type": "code",
      "source": [
        "# Run the training loop, keeping track of losses and potentially the accuracy\n",
        "# on the training set. Plot the loss curve intermittently.\n",
        "#\n",
        "# The simplest solution would add a new plot with each plotting call. You\n",
        "# can play with the frequency of plotting (and recording) a bit in order\n",
        "# to find something that works.\n",
        "#\n",
        "# Based on the loss curves, decide how to set your total number of training\n",
        "# iterations. Once you are satified, add some code that evaluates your\n",
        "# prediction accuracy (not loss!) on the test set.\n",
        "#\n",
        "# Note that the outputs from the network are logits; for prediction accuracy\n",
        "# we can pick the most likely label and see if it is correct.\n",
        "#\n",
        "# You should be able to reach about 90% correctness in roughly 1000 training\n",
        "# steps.\n",
        "\n",
        "\n",
        "TRAIN_ITERS = int(1000)\n",
        "RECORD_PERIOD = 10\n",
        "PLOT_PERIOD = int(500)\n",
        "\n",
        "\n",
        "def get_accuracy(predictions, true_labels):\n",
        "  assert predictions.shape == true_labels.shape  \n",
        "  num_elements = predictions.shape[0]\n",
        "  num_correct = np.count_nonzero(np.isclose(predictions, true_labels))\n",
        "  return num_correct / num_elements\n",
        "  \n",
        "\n",
        "def get_predictions_and_true_labels(\n",
        "    session, outputs_tensor, labels_tensor, num_batches=-1):\n",
        "  all_predictions = []\n",
        "  all_true_labels = []\n",
        "  while num_batches != 0:\n",
        "    try:\n",
        "      outputs_np, labels_np = session.run([outputs_tensor, labels_tensor])\n",
        "      if num_batches > 0:\n",
        "        num_batches -= 1\n",
        "\n",
        "      assert len(outputs_np.shape) == 2\n",
        "      predictions = outputs_np.argmax(axis=1)\n",
        "      all_predictions.append(predictions)\n",
        "      all_true_labels.append(labels_np)\n",
        "    except tf.errors.OutOfRangeError:\n",
        "      break\n",
        "      \n",
        "  # Concatenate all collected data.\n",
        "  return (\n",
        "      np.concatenate(all_predictions),\n",
        "      np.concatenate(all_true_labels),      \n",
        "  )\n",
        "\n",
        "\n",
        "losses = []\n",
        "with tf.Session() as session:\n",
        "  session.run(init_op)\n",
        "  \n",
        "  for train_iter in range(TRAIN_ITERS):\n",
        "    _, loss_np = session.run([train_op, loss])\n",
        "    \n",
        "    if (train_iter % RECORD_PERIOD) == 0:\n",
        "      losses.append(loss_np)\n",
        "  \n",
        "    if (train_iter % PLOT_PERIOD) == 0:\n",
        "      print('train iter', train_iter)\n",
        "      plot_losses(losses)\n",
        "      predictions, true_labels = get_predictions_and_true_labels(\n",
        "          session, train_outputs, train_labels, num_batches=30)\n",
        "      print('Accuracy on training set:', get_accuracy(predictions, true_labels))\n",
        "     \n",
        "  print('Test Pred accuracy:', get_accuracy(\n",
        "      *get_predictions_and_true_labels(\n",
        "          session, model(test_inputs), test_labels, num_batches=-1)\n",
        "  ))\n"
      ],
      "execution_count": 12,
      "outputs": [
        {
          "output_type": "stream",
          "text": [
            "train iter 0\n"
          ],
          "name": "stdout"
        },
        {
          "output_type": "display_data",
          "data": {
            "image/png": "[encoded data removed]",
            "text/plain": [
              "<matplotlib.figure.Figure at 0x7fba95449190>"
            ]
          },
          "metadata": {
            "tags": []
          }
        },
        {
          "output_type": "stream",
          "text": [
            "Accuracy on training set: 0.175\n",
            "train iter 500\n"
          ],
          "name": "stdout"
        },
        {
          "output_type": "display_data",
          "data": {
            "image/png": "[encoded data removed]",
            "text/plain": [
              "<matplotlib.figure.Figure at 0x7fba9547a7d0>"
            ]
          },
          "metadata": {
            "tags": []
          }
        },
        {
          "output_type": "stream",
          "text": [
            "Accuracy on training set: 0.890104166667\n",
            "Test Pred accuracy: 0.913\n"
          ],
          "name": "stdout"
        }
      ]
    },
    {
      "metadata": {
        "id": "0fwSrI-c2Cn3",
        "colab_type": "code",
        "colab": {
          "autoexec": {
            "startup": false,
            "wait_interval": 0
          },
          "base_uri": "https://localhost:8080/",
          "height": 37
        },
        "outputId": "df58360c-e7b3-49ad-8175-2dbf44046c86",
        "executionInfo": {
          "status": "ok",
          "timestamp": 1530768930109,
          "user_tz": -60,
          "elapsed": 492,
          "user": {
            "displayName": "David Szepesvari",
            "photoUrl": "//lh3.googleusercontent.com/-b59pEhK2Mu4/AAAAAAAAAAI/AAAAAAAABYk/II49sX2Iiac/s50-c-k-no/photo.jpg",
            "userId": "112028855906936668175"
          }
        }
      },
      "cell_type": "code",
      "source": [
        ""
      ],
      "execution_count": 12,
      "outputs": []
    },
    {
      "metadata": {
        "id": "Xvt4bOeP1Bbo",
        "colab_type": "code",
        "colab": {
          "autoexec": {
            "startup": false,
            "wait_interval": 0
          },
          "base_uri": "https://localhost:8080/",
          "height": 37
        },
        "outputId": "b649de94-61ad-49a7-de61-f085cdfec3fd",
        "executionInfo": {
          "status": "ok",
          "timestamp": 1530768930974,
          "user_tz": -60,
          "elapsed": 457,
          "user": {
            "displayName": "David Szepesvari",
            "photoUrl": "//lh3.googleusercontent.com/-b59pEhK2Mu4/AAAAAAAAAAI/AAAAAAAABYk/II49sX2Iiac/s50-c-k-no/photo.jpg",
            "userId": "112028855906936668175"
          }
        }
      },
      "cell_type": "code",
      "source": [
        ""
      ],
      "execution_count": 12,
      "outputs": []
    },
    {
      "metadata": {
        "id": "ChrJA2KOqTMD",
        "colab_type": "code",
        "colab": {
          "autoexec": {
            "startup": false,
            "wait_interval": 0
          },
          "base_uri": "https://localhost:8080/",
          "height": 37
        },
        "outputId": "6f515f7a-44ef-440b-c4e7-644bbe92fb65",
        "executionInfo": {
          "status": "ok",
          "timestamp": 1530768931989,
          "user_tz": -60,
          "elapsed": 472,
          "user": {
            "displayName": "David Szepesvari",
            "photoUrl": "//lh3.googleusercontent.com/-b59pEhK2Mu4/AAAAAAAAAAI/AAAAAAAABYk/II49sX2Iiac/s50-c-k-no/photo.jpg",
            "userId": "112028855906936668175"
          }
        }
      },
      "cell_type": "code",
      "source": [
        ""
      ],
      "execution_count": 12,
      "outputs": []
    }
  ]
}